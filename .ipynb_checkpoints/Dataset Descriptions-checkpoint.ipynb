{
 "cells": [
  {
   "cell_type": "markdown",
   "metadata": {},
   "source": [
    "# Datasets for HW0\n",
    "\n",
    "The first 3 files are from [OpenFlights](http://openflights.org/data.html).  Other data is available [here](http://jblevins.org/notes/airline-data).\n",
    "\n",
    "## Airports.dat.txt\n",
    "As of January 2012, the OpenFlights Airports Database contains 6977 airports spanning the globe, as shown in the map above. Each entry contains the following information:\n",
    "\n",
    "1. Airport ID\tUnique OpenFlights identifier for this airport.\n",
    "2. Name\tName of airport. May or may not contain the City name.\n",
    "3. City\tMain city served by airport. May be spelled differently from Name.\n",
    "4. Country\tCountry or territory where airport is located.\n",
    "5. IATA/FAA\t3-letter FAA code, for airports located in Country \"United States of America\". 3-letter IATA code, for all other airports. Blank if not assigned.\n",
    "6. ICAO\t4-letter ICAO code. Blank if not assigned.\n",
    "7. Latitude\tDecimal degrees, usually to six significant digits. Negative is South, positive is North.\n",
    "8. Longitude\tDecimal degrees, usually to six significant digits. Negative is West, positive is East.\n",
    "9. Altitude\tIn feet.\n",
    "11. Timezone\tHours offset from UTC. Fractional hours are expressed as decimals, eg. India is 5.5.\n",
    "12. DST\tDaylight savings time. One of E (Europe), A (US/Canada), S (South America), O (Australia), Z (New Zealand), N (None) or U (Unknown). See also: Help: Time\n",
    "13. Tz database time zone\tTimezone in \"tz\" (Olson) format, eg. \"America/Los_Angeles\".\n",
    "\n",
    "The data is ISO 8859-1 (Latin-1) encoded, with no special characters.\n",
    "\n",
    "*** Note: Rules for daylight savings time change from year to year and from country to country. The current data is an approximation for 2009, built on a country level. Most airports in DST-less regions in countries that generally observe DST (eg. AL, HI in the USA, NT, QL in Australia, parts of Canada) are marked incorrectly. ***\n",
    "\n",
    "## Airlines.dat.txt\n",
    "As of January 2012, the OpenFlights Airlines Database contains 5888 airlines. Each entry contains the following information:\n",
    "\n",
    "1. Airline ID\tUnique OpenFlights identifier for this airline.\n",
    "2. Name\tName of the airline.\n",
    "3. Alias\tAlias of the airline. For example, All Nippon Airways is commonly known as \"ANA\".\n",
    "4. IATA\t2-letter IATA code, if available.\n",
    "5. ICAO\t3-letter ICAO code, if available.\n",
    "6. Callsign\tAirline callsign.\n",
    "7. Country\tCountry or territory where airline is incorporated.\n",
    "8. Active\t\"Y\" if the airline is or has until recently been operational, \"N\" if it is defunct. This field is not reliable: in particular, major airlines that stopped flying long ago, but have not had their IATA code reassigned (eg. Ansett/AN), will incorrectly show as \"Y\".\n",
    "\n",
    "*** The data is ISO 8859-1 (Latin-1) encoded. The special value \\N is used for \"NULL\" to indicate that no value is available, and is understood automatically by MySQL if imported. ***\n",
    "\n",
    "## Routes.dat.txt\n",
    "As of January 2012, the OpenFlights/Airline Route Mapper Route Database contains 59036 routes between 3209 airports on 531 airlines spanning the globe, as shown in the map above. Each entry contains the following information:\n",
    "\n",
    "1. Airline\t2-letter (IATA) or 3-letter (ICAO) code of the airline.\n",
    "2. Airline ID\tUnique OpenFlights identifier for airline (see Airline).\n",
    "3. Source airport\t3-letter (IATA) or 4-letter (ICAO) code of the source airport.\n",
    "4. Source airport ID\tUnique OpenFlights identifier for source airport (see Airport)\n",
    "5. Destination airport\t3-letter (IATA) or 4-letter (ICAO) code of the destination airport.\n",
    "6. Destination airport ID\tUnique OpenFlights identifier for destination airport (see Airport)\n",
    "7. Codeshare\t\"Y\" if this flight is a codeshare (that is, not operated by Airline, but another carrier), empty otherwise.\n",
    "8. Stops\tNumber of stops on this flight (\"0\" for direct)\n",
    "9. Equipment\t3-letter codes for plane type(s) generally used on this flight, separated by spaces\n",
    "\n",
    "*** The data is ISO 8859-1 (Latin-1) encoded. The special value \\N is used for \"NULL\" to indicate that no value is available, and is understood automatically by MySQL if imported. ***"
   ]
  },
  {
   "cell_type": "markdown",
   "metadata": {},
   "source": [
    "## On_time_On_Time_Performance_2016_10.csv\n",
    "\n",
    "The last file, On_time_On_Time_Performance_2016_10.csv is about flight on-time performance for October, 2016.  It was downloaded from [Transtats](http://www.transtats.bts.gov/) and its details are documented in readme.html."
   ]
  },
  {
   "cell_type": "code",
   "execution_count": null,
   "metadata": {
    "collapsed": true
   },
   "outputs": [],
   "source": []
  }
 ],
 "metadata": {
  "kernelspec": {
   "display_name": "Python 3",
   "language": "python",
   "name": "python3"
  },
  "language_info": {
   "codemirror_mode": {
    "name": "ipython",
    "version": 3
   },
   "file_extension": ".py",
   "mimetype": "text/x-python",
   "name": "python",
   "nbconvert_exporter": "python",
   "pygments_lexer": "ipython3",
   "version": "3.6.0"
  }
 },
 "nbformat": 4,
 "nbformat_minor": 1
}
